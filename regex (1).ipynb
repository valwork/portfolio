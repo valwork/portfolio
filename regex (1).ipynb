{
  "nbformat": 4,
  "nbformat_minor": 0,
  "metadata": {
    "colab": {
      "name": "regex",
      "provenance": []
    },
    "kernelspec": {
      "name": "python3",
      "display_name": "Python 3"
    },
    "language_info": {
      "name": "python"
    }
  },
  "cells": [
    {
      "cell_type": "code",
      "metadata": {
        "id": "80p2sxFna4Al"
      },
      "source": [
        "import re"
      ],
      "execution_count": null,
      "outputs": []
    },
    {
      "cell_type": "code",
      "metadata": {
        "colab": {
          "base_uri": "https://localhost:8080/"
        },
        "id": "k7TyXbroa8I1",
        "outputId": "d626311b-ec1f-40c7-88b4-644a304ce4eb"
      },
      "source": [
        "# проверка номера на валидность и вывод региона отдельно\n",
        "def valid_transport():\n",
        "  number = input('Введите номер машины')\n",
        "  number_pattern = re.match(r'([АВЕКМНОРСТХУ]\\d{3}[АВЕКМНОРСТХУ]{2})(\\d{2,3}$)', number)\n",
        "  if number_pattern: \n",
        "    print(f'Номер {number_pattern.group(1)} валиден. Регион: {number_pattern.group(2)}')\n",
        "  else:\n",
        "    print('Номер не валиден')\n",
        "\n",
        "valid_transport()\n"
      ],
      "execution_count": null,
      "outputs": [
        {
          "output_type": "stream",
          "name": "stdout",
          "text": [
            "Введите номер машиныА111АА11\n",
            "Номер А111АА валиден. Регион: 11\n"
          ]
        }
      ]
    },
    {
      "cell_type": "code",
      "metadata": {
        "colab": {
          "base_uri": "https://localhost:8080/"
        },
        "id": "-H5g_ybYmTsS",
        "outputId": "1c37f904-7105-4688-b402-7bae1dfff2b5"
      },
      "source": [
        "# функция, удаляющая повторы слов\n",
        "some_string = 'Напишите функцию функцию, которая будет будет будет будет удалять все все все все последовательные повторы слов из из из из заданной строки строки при помощи регулярных выражений.'\n",
        "\n",
        "def repeating_words(string):\n",
        "  print(re.sub(r'(\\w+)(?:\\s+\\1)+', r'\\1', string))\n",
        "\n",
        "repeating_words(some_string)"
      ],
      "execution_count": null,
      "outputs": [
        {
          "output_type": "stream",
          "name": "stdout",
          "text": [
            "Напишите функцию, которая будет удалять все последовательные повторы слов из заданной строки при помощи регулярных выражений.\n"
          ]
        }
      ]
    },
    {
      "cell_type": "code",
      "metadata": {
        "colab": {
          "base_uri": "https://localhost:8080/"
        },
        "id": "3IppjLi-CtFg",
        "outputId": "11ad2ce3-1bc7-4aed-a85e-cc638206ae96"
      },
      "source": [
        "# создание аббревиатуры из словосочетания\n",
        "some_words = 'Информационные технологии'\n",
        "\n",
        "def acronim(string):\n",
        "  final_string = ''\n",
        "  splited_string = re.split(' ', string)\n",
        "  for el in splited_string:\n",
        "    one_letter = re.search(r'[а-яёА-ЯЁA-Za-z]', el)\n",
        "    final_string += one_letter.group(0).upper()\n",
        "  print(final_string)\n",
        "    \n",
        "acronim(some_words)"
      ],
      "execution_count": null,
      "outputs": [
        {
          "output_type": "stream",
          "name": "stdout",
          "text": [
            "ИТ\n"
          ]
        }
      ]
    },
    {
      "cell_type": "code",
      "metadata": {
        "colab": {
          "base_uri": "https://localhost:8080/"
        },
        "id": "dncnDLPoK8Px",
        "outputId": "7f72c7d9-b0a4-4a94-ce8b-5bb70a796dec"
      },
      "source": [
        "# функция, позволяющая узнать количество определённых доменов в списке\n",
        "emails = ['test@gmail.com', 'xyz@test.in', 'test@ya.ru', 'xyz@mail.ru', 'xyz@ya.ru', 'xyz@gmail.com']\n",
        "\n",
        "def domen_email(list_):\n",
        "  any_list = []\n",
        "  blank = {}\n",
        "  for el in list_:\n",
        "    found = str(re.search(r'@([a-z]+\\.[a-z]+)', el).group(1))\n",
        "    any_list.append(found)\n",
        "  for string in any_list:\n",
        "    blank[string] = any_list.count(string)\n",
        "  for key, value in blank.items():\n",
        "    print(f'{key}: {value}')\n",
        "\n",
        "domen_email(emails)"
      ],
      "execution_count": null,
      "outputs": [
        {
          "output_type": "stream",
          "name": "stdout",
          "text": [
            "gmail.com: 2\n",
            "test.in: 1\n",
            "ya.ru: 2\n",
            "mail.ru: 1\n"
          ]
        }
      ]
    }
  ]
}