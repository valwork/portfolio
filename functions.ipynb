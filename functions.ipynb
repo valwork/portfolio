{
  "nbformat": 4,
  "nbformat_minor": 0,
  "metadata": {
    "colab": {
      "name": "functions",
      "provenance": []
    },
    "kernelspec": {
      "name": "python3",
      "display_name": "Python 3"
    },
    "language_info": {
      "name": "python"
    }
  },
  "cells": [
    {
      "cell_type": "code",
      "metadata": {
        "id": "Z56r0csISnfZ"
      },
      "source": [
        "documents = [\n",
        " {'type': 'passport', 'number': '2207 876234', 'name': 'Василий Гупкин'},\n",
        " {'type': 'invoice', 'number': '11-2', 'name': 'Геннадий Покемонов'},\n",
        " {'type': 'insurance', 'number': '10006', 'name': 'Аристарх Павлов'}\n",
        "]"
      ],
      "execution_count": null,
      "outputs": []
    },
    {
      "cell_type": "code",
      "metadata": {
        "id": "4RcbcIua6vEy"
      },
      "source": [
        "directories = {\n",
        " '1': ['2207 876234', '11-2'],\n",
        " '2': ['10006'],\n",
        " '3': []\n",
        "}"
      ],
      "execution_count": null,
      "outputs": []
    },
    {
      "cell_type": "code",
      "metadata": {
        "colab": {
          "base_uri": "https://localhost:8080/"
        },
        "id": "lPilhunu8dOX",
        "outputId": "ba677e4e-50ab-4b7b-ce19-14bccdcd23b5"
      },
      "source": [
        "# нахождение владельца по номеру документа\n",
        "def name_from_doc(docs):\n",
        "  found = False\n",
        "  doc = input('Введите номер документа: ')\n",
        "  for el in docs:\n",
        "    if doc == el['number'] and 'number' in el.keys():\n",
        "      doc_name = el['name']\n",
        "      return f'Владелец документа: {doc_name}'\n",
        "      found = True \n",
        "  if found is False:\n",
        "      return 'Документ не найден в базе'\n",
        "\n",
        "print(name_from_doc(documents))\n"
      ],
      "execution_count": null,
      "outputs": [
        {
          "output_type": "stream",
          "name": "stdout",
          "text": [
            "Введите номер документа: 11-2\n",
            "Владелец документа: Геннадий Покемонов\n"
          ]
        }
      ]
    },
    {
      "cell_type": "code",
      "metadata": {
        "colab": {
          "base_uri": "https://localhost:8080/"
        },
        "id": "JAPA3D73D3Nk",
        "outputId": "b410ab26-00fc-418b-8bfa-4f4540176bf3"
      },
      "source": [
        "# нахождение полки с документом по его номеру\n",
        "def shelf_from_doc(direct):\n",
        "  found = False\n",
        "  doc = input('Введите номер документа: ')\n",
        "  for key, value in direct.items():\n",
        "    if doc in value:\n",
        "      return key\n",
        "      found = True\n",
        "  if found is False:\n",
        "      return 'Документ не найден в базе'\n",
        "    \n",
        "print(shelf_from_doc(directories))"
      ],
      "execution_count": null,
      "outputs": [
        {
          "output_type": "stream",
          "name": "stdout",
          "text": [
            "Введите номер документа: 11-2\n",
            "1\n"
          ]
        }
      ]
    },
    {
      "cell_type": "code",
      "metadata": {
        "colab": {
          "base_uri": "https://localhost:8080/"
        },
        "id": "SziFCXIPJG7Z",
        "outputId": "7ee3afdf-d727-422a-d271-27e6cea2e4e0"
      },
      "source": [
        "# вывод всей ихвестой информации о документах\n",
        "def all_doc_info(docs, direct):\n",
        "  for key, value in direct.items():\n",
        "    for el in docs:\n",
        "      if el['number'] in value:\n",
        "        print(f\"№: {el['number']}, тип: {el['type']}, владелец: {el['name']}, полка хранения: {key}\")\n",
        "\n",
        "print(all_doc_info(documents, directories))"
      ],
      "execution_count": null,
      "outputs": [
        {
          "output_type": "stream",
          "name": "stdout",
          "text": [
            "№: 2207 876234, тип: passport, владелец: Василий Гупкин, полка хранения: 1\n",
            "№: 11-2, тип: invoice, владелец: Геннадий Покемонов, полка хранения: 1\n",
            "№: 10006, тип: insurance, владелец: Аристарх Павлов, полка хранения: 2\n",
            "None\n"
          ]
        }
      ]
    },
    {
      "cell_type": "code",
      "metadata": {
        "colab": {
          "base_uri": "https://localhost:8080/"
        },
        "id": "UUaALjXuyshW",
        "outputId": "a9cb57a8-8fda-4d67-f765-f28422e663bd"
      },
      "source": [
        "# создание новых полок\n",
        "def new_shelf(direct):\n",
        "  shelf = input('Введите номер полки: ')\n",
        "  if shelf in direct.keys():\n",
        "      return f\"Такая полка уже существует. Текущий перечень полок: {list(direct.keys())}\"\n",
        "    else:\n",
        "      direct.update({shelf: ''})\n",
        "      return f\"Полка добавлена. Текущий перечень полок: {list(direct.keys())}\"\n",
        "\n",
        "print(new_shelf(directories))"
      ],
      "execution_count": null,
      "outputs": [
        {
          "output_type": "stream",
          "name": "stdout",
          "text": [
            "Введите номер полки: 5\n",
            "Полка добавлена. Текущий перечень полок: ['1', '2', '3', 5]\n"
          ]
        }
      ]
    },
    {
      "cell_type": "code",
      "metadata": {
        "colab": {
          "base_uri": "https://localhost:8080/"
        },
        "id": "WPBcvI-r1RTr",
        "outputId": "a27f2411-56fd-44bd-d448-58633610e63e"
      },
      "source": [
        "# удаление полок\n",
        "def delete_shelf(direct):\n",
        "  shelf = input('Введите номер полки: ')\n",
        "  keys_ = list(direct.keys())\n",
        "  if shelf in direct.keys() and direct[shelf] == []:\n",
        "      del direct[shelf]\n",
        "      return f\"Полка удалена. Текущий перечень полок: {keys_}\"\n",
        "  elif shelf not in direct.keys():\n",
        "      return f\"Такой полки не существует. Текущий перечень полок: {keys_}\"\n",
        "  else:\n",
        "      return f\"На полке есть документы, удалите их перед удалением полки. Текущий перечень полок: {keys_}\"\n",
        "\n",
        "print(delete_shelf(directories))\n"
      ],
      "execution_count": null,
      "outputs": [
        {
          "output_type": "stream",
          "name": "stdout",
          "text": [
            "Введите номер полки: 1\n",
            "На полке есть документы, удалите их перед удалением полки. Текущий перечень полок: ['1', '2', '3']\n"
          ]
        }
      ]
    },
    {
      "cell_type": "code",
      "metadata": {
        "id": "_XK0Yb_C6xVw"
      },
      "source": [
        "# обобщённая ф-ция \n",
        "def main():\n",
        "  command = input('Введите команду: ')\n",
        "  if command == 'p':\n",
        "    print(name_from_doc(documents))\n",
        "  elif command == 's':\n",
        "    print(shelf_from_doc(directories))\n",
        "  elif command == 'l':\n",
        "    print(all_doc_info(documents, directories))\n",
        "  elif command == 'ads':\n",
        "    print(new_shelf(documents))\n",
        "  elif command == 'ds':\n",
        "    print(delete_shelf(directories))\n",
        "  else:\n",
        "    print('Такой команды не существует')\n",
        "\n",
        "  "
      ],
      "execution_count": null,
      "outputs": []
    }
  ]
}