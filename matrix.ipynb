{
  "nbformat": 4,
  "nbformat_minor": 0,
  "metadata": {
    "colab": {
      "name": "matrix",
      "provenance": []
    },
    "kernelspec": {
      "name": "python3",
      "display_name": "Python 3"
    },
    "language_info": {
      "name": "python"
    }
  },
  "cells": [
    {
      "cell_type": "code",
      "execution_count": null,
      "metadata": {
        "colab": {
          "base_uri": "https://localhost:8080/",
          "height": 286
        },
        "id": "PcpeVscP4yNU",
        "outputId": "e79dde1e-a226-4767-e493-eb83e75b6b50"
      },
      "outputs": [
        {
          "output_type": "execute_result",
          "data": {
            "text/plain": [
              "(-200.0, 200.0)"
            ]
          },
          "metadata": {},
          "execution_count": 51
        },
        {
          "output_type": "display_data",
          "data": {
            "image/png": "[encoded data removed]",
            "text/plain": [
              "<Figure size 432x288 with 1 Axes>"
            ]
          },
          "metadata": {
            "needs_background": "light"
          }
        }
      ],
      "source": [
        "# данный объект я, при помощи линейных отображений, уменьшу в два раза, поверну на 130 градусов и отражу относительно прямой y = x\n",
        "import numpy as np\n",
        "import matplotlib.pyplot as plt\n",
        "\n",
        "A = [[-100, -100, 1],\n",
        "[-100, 100, 1],\n",
        "[100, 100, 1],\n",
        "[0, 0, 1],\n",
        "[100, -100, 1],\n",
        "[-100, -100, 1]]\n",
        "\n",
        "A = np.array(A)\n",
        "x = A[:,0]\n",
        "y = A[:,1]\n",
        "\n",
        "plt.plot(x, y)\n",
        "plt.ylim([-200, 200])\n",
        "plt.xlim([-200, 200])\n"
      ]
    },
    {
      "cell_type": "code",
      "source": [
        "B = np.array([[0.5, 0, 0], [0, 0.5, 0], [0, 0, 1]])"
      ],
      "metadata": {
        "id": "GpU3at7prpx0"
      },
      "execution_count": null,
      "outputs": []
    },
    {
      "cell_type": "code",
      "source": [
        "res = B@A.T"
      ],
      "metadata": {
        "id": "qRiwa3-QuUxE"
      },
      "execution_count": null,
      "outputs": []
    },
    {
      "cell_type": "code",
      "source": [
        "tt = res.T"
      ],
      "metadata": {
        "id": "3xFqgD7MvqMa"
      },
      "execution_count": null,
      "outputs": []
    },
    {
      "cell_type": "code",
      "source": [
        "A = np.array(tt)\n",
        "x = A[:,0]\n",
        "y = A[:,1]\n",
        "\n",
        "plt.plot(x, y)\n",
        "plt.ylim([-200, 200])\n",
        "plt.xlim([-200, 200])"
      ],
      "metadata": {
        "colab": {
          "base_uri": "https://localhost:8080/",
          "height": 286
        },
        "id": "-NSO_ppbvsbv",
        "outputId": "a8b6ca31-bd88-4636-dfea-9c45a6afb52d"
      },
      "execution_count": null,
      "outputs": [
        {
          "output_type": "execute_result",
          "data": {
            "text/plain": [
              "(-200.0, 200.0)"
            ]
          },
          "metadata": {},
          "execution_count": 7
        },
        {
          "output_type": "display_data",
          "data": {
            "image/png": "[encoded data removed]",
            "text/plain": [
              "<Figure size 432x288 with 1 Axes>"
            ]
          },
          "metadata": {
            "needs_background": "light"
          }
        }
      ]
    },
    {
      "cell_type": "code",
      "source": [
        "B = np.array([[-0.37, 0.77, 0], [-0.77, -0.37, 0], [0, 0, 1]])"
      ],
      "metadata": {
        "id": "F1gLEM0pxJ7I"
      },
      "execution_count": null,
      "outputs": []
    },
    {
      "cell_type": "code",
      "source": [
        "res = B@A.T"
      ],
      "metadata": {
        "id": "FB29fMv1yyPD"
      },
      "execution_count": null,
      "outputs": []
    },
    {
      "cell_type": "code",
      "source": [
        "tt = res.T"
      ],
      "metadata": {
        "id": "92DSxWDCyzLF"
      },
      "execution_count": null,
      "outputs": []
    },
    {
      "cell_type": "code",
      "source": [
        "A = np.array(tt)\n",
        "x = A[:,0]\n",
        "y = A[:,1]\n",
        "\n",
        "plt.plot(x, y)\n",
        "plt.ylim([-200, 200])\n",
        "plt.xlim([-200, 200])"
      ],
      "metadata": {
        "colab": {
          "base_uri": "https://localhost:8080/",
          "height": 286
        },
        "id": "ygcn6Sv3y1Ek",
        "outputId": "3c3f59e5-7f05-4ecc-ad99-6a6ee9d90f12"
      },
      "execution_count": null,
      "outputs": [
        {
          "output_type": "execute_result",
          "data": {
            "text/plain": [
              "(-200.0, 200.0)"
            ]
          },
          "metadata": {},
          "execution_count": 12
        },
        {
          "output_type": "display_data",
          "data": {
            "image/png": "[encoded data removed]",
            "text/plain": [
              "<Figure size 432x288 with 1 Axes>"
            ]
          },
          "metadata": {
            "needs_background": "light"
          }
        }
      ]
    },
    {
      "cell_type": "code",
      "source": [
        "B = np.array([[-1, 0, 0], [0, -1, 0], [0, 0, 1]])"
      ],
      "metadata": {
        "id": "rLw6L9HUzWFG"
      },
      "execution_count": null,
      "outputs": []
    },
    {
      "cell_type": "code",
      "source": [
        "res = B@A.T"
      ],
      "metadata": {
        "id": "iZE7s0HVzlBJ"
      },
      "execution_count": null,
      "outputs": []
    },
    {
      "cell_type": "code",
      "source": [
        "tt = res.T"
      ],
      "metadata": {
        "id": "WznKNEppzmwQ"
      },
      "execution_count": null,
      "outputs": []
    },
    {
      "cell_type": "code",
      "source": [
        "A = np.array(tt)\n",
        "x = A[:,0]\n",
        "y = A[:,1]\n",
        "\n",
        "plt.plot(x, y)\n",
        "plt.ylim([-200, 200])\n",
        "plt.xlim([-200, 200])"
      ],
      "metadata": {
        "colab": {
          "base_uri": "https://localhost:8080/",
          "height": 286
        },
        "id": "NqlSHWeJzoMS",
        "outputId": "d79a1d17-d03d-42f7-897d-a872d43a881a"
      },
      "execution_count": null,
      "outputs": [
        {
          "output_type": "execute_result",
          "data": {
            "text/plain": [
              "(-200.0, 200.0)"
            ]
          },
          "metadata": {},
          "execution_count": 32
        },
        {
          "output_type": "display_data",
          "data": {
            "image/png": "[encoded data removed]",
            "text/plain": [
              "<Figure size 432x288 with 1 Axes>"
            ]
          },
          "metadata": {
            "needs_background": "light"
          }
        }
      ]
    },
    {
      "cell_type": "code",
      "source": [
        "B1 = np.array([[0.5, 0, 0], [0, 0.5, 0], [0, 0, 1]])\n",
        "B2 = np.array([[-0.37, 0.77, 0], [-0.77, -0.37, 0], [0, 0, 1]])\n",
        "B3 = np.array([[-1, 0, 0], [0, -1, 0], [0, 0, 1]])"
      ],
      "metadata": {
        "id": "CE2FMAkW1w6r"
      },
      "execution_count": null,
      "outputs": []
    },
    {
      "cell_type": "code",
      "source": [
        "B = np.array(B1@B2@B3)"
      ],
      "metadata": {
        "id": "dScVSov72VzT"
      },
      "execution_count": null,
      "outputs": []
    },
    {
      "cell_type": "code",
      "source": [
        "res = B@A.T"
      ],
      "metadata": {
        "id": "bf2B9cRW3Qnu"
      },
      "execution_count": null,
      "outputs": []
    },
    {
      "cell_type": "code",
      "source": [
        "tt = res.T"
      ],
      "metadata": {
        "id": "SFW_IR1z3ZD1"
      },
      "execution_count": null,
      "outputs": []
    },
    {
      "cell_type": "code",
      "source": [
        "A = np.array(tt)\n",
        "x = A[:,0]\n",
        "y = A[:,1]\n",
        "\n",
        "plt.plot(x, y)\n",
        "plt.ylim([-200, 200])\n",
        "plt.xlim([-200, 200])"
      ],
      "metadata": {
        "colab": {
          "base_uri": "https://localhost:8080/",
          "height": 286
        },
        "id": "L_oAiuZN3avI",
        "outputId": "8396ec56-b4bc-4083-acae-5326bbe900e0"
      },
      "execution_count": null,
      "outputs": [
        {
          "output_type": "execute_result",
          "data": {
            "text/plain": [
              "(-200.0, 200.0)"
            ]
          },
          "metadata": {},
          "execution_count": 56
        },
        {
          "output_type": "display_data",
          "data": {
            "image/png": "[encoded data removed]",
            "text/plain": [
              "<Figure size 432x288 with 1 Axes>"
            ]
          },
          "metadata": {
            "needs_background": "light"
          }
        }
      ]
    },
    {
      "cell_type": "code",
      "source": [
        "# решаю систему уравнений, используя матричный подход\n",
        "A = np.array([[1, 0, 1, 0], [-1, 1, -2, 1], [4, 0, 1, -2], [-4, 4, 0, 1]])\n",
        "B = np.array([2, -2, 0, 5])"
      ],
      "metadata": {
        "id": "dtzCeLcZ4Flt"
      },
      "execution_count": null,
      "outputs": []
    },
    {
      "cell_type": "code",
      "source": [
        "A1 = np.linalg.inv(A)"
      ],
      "metadata": {
        "id": "BetszWmi5fca"
      },
      "execution_count": null,
      "outputs": []
    },
    {
      "cell_type": "code",
      "source": [
        "A@A1"
      ],
      "metadata": {
        "colab": {
          "base_uri": "https://localhost:8080/"
        },
        "id": "2DvE2YK-5rLG",
        "outputId": "d3935f94-4431-4bf6-edb5-e14790da6fe0"
      },
      "execution_count": null,
      "outputs": [
        {
          "output_type": "execute_result",
          "data": {
            "text/plain": [
              "array([[ 1.00000000e+00,  0.00000000e+00,  0.00000000e+00,\n",
              "         0.00000000e+00],\n",
              "       [ 0.00000000e+00,  1.00000000e+00, -5.55111512e-17,\n",
              "         2.77555756e-17],\n",
              "       [ 0.00000000e+00,  0.00000000e+00,  1.00000000e+00,\n",
              "         0.00000000e+00],\n",
              "       [ 0.00000000e+00,  0.00000000e+00, -5.55111512e-17,\n",
              "         1.00000000e+00]])"
            ]
          },
          "metadata": {},
          "execution_count": 65
        }
      ]
    },
    {
      "cell_type": "code",
      "source": [
        "np.matmul(A1,B)"
      ],
      "metadata": {
        "colab": {
          "base_uri": "https://localhost:8080/"
        },
        "id": "pL3rLpgB5su1",
        "outputId": "0e45f1d9-1bf2-4140-cc23-563c6e23bd05"
      },
      "execution_count": null,
      "outputs": [
        {
          "output_type": "execute_result",
          "data": {
            "text/plain": [
              "array([0., 1., 2., 1.])"
            ]
          },
          "metadata": {},
          "execution_count": 66
        }
      ]
    },
    {
      "cell_type": "code",
      "source": [
        "# нахожу спектральное разложение матрицы\n",
        "m = np.array([[1, 2],\n",
        "              [2,3]])"
      ],
      "metadata": {
        "id": "HZki1xBs58C8"
      },
      "execution_count": null,
      "outputs": []
    },
    {
      "cell_type": "code",
      "source": [
        "v, w = np.linalg.eigh(m)\n",
        "D = np.diag(v)\n",
        "w, D"
      ],
      "metadata": {
        "colab": {
          "base_uri": "https://localhost:8080/"
        },
        "id": "9u-EhwPX6M5w",
        "outputId": "88b182ac-cd39-45d2-865e-f7d4a4802c37"
      },
      "execution_count": null,
      "outputs": [
        {
          "output_type": "execute_result",
          "data": {
            "text/plain": [
              "(array([[-0.85065081,  0.52573111],\n",
              "        [ 0.52573111,  0.85065081]]), array([[-0.23606798,  0.        ],\n",
              "        [ 0.        ,  4.23606798]]))"
            ]
          },
          "metadata": {},
          "execution_count": 79
        }
      ]
    },
    {
      "cell_type": "code",
      "source": [
        "S = w.T\n",
        "S"
      ],
      "metadata": {
        "colab": {
          "base_uri": "https://localhost:8080/"
        },
        "id": "Uu6Ph4OX7NAU",
        "outputId": "64bbf33c-a4a7-407e-d237-0301ae817da3"
      },
      "execution_count": null,
      "outputs": [
        {
          "output_type": "execute_result",
          "data": {
            "text/plain": [
              "array([[-0.85065081,  0.52573111],\n",
              "       [ 0.52573111,  0.85065081]])"
            ]
          },
          "metadata": {},
          "execution_count": 72
        }
      ]
    },
    {
      "cell_type": "code",
      "source": [
        "w@D@S "
      ],
      "metadata": {
        "colab": {
          "base_uri": "https://localhost:8080/"
        },
        "id": "UsO99ZRZ7mv2",
        "outputId": "7f456a0f-4a0e-4937-8087-c016fd028c52"
      },
      "execution_count": null,
      "outputs": [
        {
          "output_type": "execute_result",
          "data": {
            "text/plain": [
              "array([[1., 2.],\n",
              "       [2., 3.]])"
            ]
          },
          "metadata": {},
          "execution_count": 77
        }
      ]
    }
  ]
}