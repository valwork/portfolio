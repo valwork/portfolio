{
  "nbformat": 4,
  "nbformat_minor": 0,
  "metadata": {
    "colab": {
      "name": "ЦСР_Валиуллина.ipynb",
      "provenance": []
    },
    "kernelspec": {
      "name": "python3",
      "display_name": "Python 3"
    },
    "language_info": {
      "name": "python"
    }
  },
  "cells": [
    {
      "cell_type": "markdown",
      "source": [
        "**Какие вузы можно назвать наиболее востребованными в России (и на каких\n",
        "основаниях)?**"
      ],
      "metadata": {
        "id": "yYjHWnu05K9z"
      }
    },
    {
      "cell_type": "markdown",
      "source": [
        "В данном исследовании я использовала данные из статистики от ВШЭ - это довольно проверенный и надёжный источник, которому смело можно доверять. Для начала - осмотрю таблицу на наличие пропусков или несостыковок."
      ],
      "metadata": {
        "id": "_7CK0o3X0dqP"
      }
    },
    {
      "cell_type": "code",
      "source": [
        "# чтобы строки в таблице отображались целиком - использую данную ф-цию\n",
        "pd.set_option('display.max_colwidth', None)"
      ],
      "metadata": {
        "id": "HdDKx8BKV5nG"
      },
      "execution_count": 37,
      "outputs": []
    },
    {
      "cell_type": "code",
      "source": [
        "df = pd.DataFrame(pd.read_excel('hse_stat.xlsx', skiprows = 2))\n",
        "df.head()"
      ],
      "metadata": {
        "colab": {
          "base_uri": "https://localhost:8080/",
          "height": 773
        },
        "id": "ulvUUx9_5KeD",
        "outputId": "dd9faf76-7865-4ebb-881e-67c0d835bdfd"
      },
      "execution_count": 38,
      "outputs": [
        {
          "output_type": "execute_result",
          "data": {
            "text/html": [
              "\n",
              "  <div id=\"df-33761549-e14a-4e5e-858f-7e6bdb504838\">\n",
              "    <div class=\"colab-df-container\">\n",
              "      <div>\n",
              "<style scoped>\n",
              "    .dataframe tbody tr th:only-of-type {\n",
              "        vertical-align: middle;\n",
              "    }\n",
              "\n",
              "    .dataframe tbody tr th {\n",
              "        vertical-align: top;\n",
              "    }\n",
              "\n",
              "    .dataframe thead th {\n",
              "        text-align: right;\n",
              "    }\n",
              "</style>\n",
              "<table border=\"1\" class=\"dataframe\">\n",
              "  <thead>\n",
              "    <tr style=\"text-align: right;\">\n",
              "      <th></th>\n",
              "      <th>Регион</th>\n",
              "      <th>Вуз</th>\n",
              "      <th>Головной вуз</th>\n",
              "      <th>тип</th>\n",
              "      <th>Категория</th>\n",
              "      <th>Средний балл ЕГЭ Б+П 2021</th>\n",
              "      <th>Средний балл ЕГЭ Б+П 2020</th>\n",
              "      <th>Средний балл ЕГЭ Б+П 2019</th>\n",
              "      <th>Зачислено всего (Б+П), чел. 2021</th>\n",
              "      <th>Зачислено всего (Б+П), чел. 2020</th>\n",
              "      <th>Зачислено всего (Б+П), чел. 2019</th>\n",
              "      <th>Ср.балл ЕГЭ (бюджет) 2021</th>\n",
              "      <th>Ср.балл ЕГЭ (бюджет) 2020</th>\n",
              "      <th>Ср.балл ЕГЭ (бюджет) 2019</th>\n",
              "      <th>Зачислено на бюджетные места, чел. 2021</th>\n",
              "      <th>Зачислено на бюджетные места, чел. 2020</th>\n",
              "      <th>Зачислено на бюджетные места, чел. 2019</th>\n",
              "      <th>Ср.балл ЕГЭ (платный прием) 2021</th>\n",
              "      <th>Ср.балл ЕГЭ (платный прием) 2020</th>\n",
              "      <th>Ср.балл ЕГЭ (платный прием) 2019</th>\n",
              "      <th>Зачислено на платные места, чел. 2021</th>\n",
              "      <th>Зачислено на платные места, чел. 2020</th>\n",
              "      <th>Зачислено на платные места, чел. 2019</th>\n",
              "      <th>Средняя стоимость обучения (руб. в год) 2021</th>\n",
              "      <th>Средняя стоимость обучения (руб. в год) 2020</th>\n",
              "      <th>Средняя стоимость обучения (руб. в год) 2019</th>\n",
              "    </tr>\n",
              "  </thead>\n",
              "  <tbody>\n",
              "    <tr>\n",
              "      <th>0</th>\n",
              "      <td>Москва и Московская область</td>\n",
              "      <td>Московский физико-технический институт</td>\n",
              "      <td>NaN</td>\n",
              "      <td>гос.</td>\n",
              "      <td>НИУ, 5-100, приоритет, спецгрант, свои стандарты</td>\n",
              "      <td>95.3</td>\n",
              "      <td>95.5</td>\n",
              "      <td>95.0</td>\n",
              "      <td>1149.0</td>\n",
              "      <td>1148.0</td>\n",
              "      <td>1117.0</td>\n",
              "      <td>97.1</td>\n",
              "      <td>97.6</td>\n",
              "      <td>97.3</td>\n",
              "      <td>914.0</td>\n",
              "      <td>865.0</td>\n",
              "      <td>825.0</td>\n",
              "      <td>88.3</td>\n",
              "      <td>89.2</td>\n",
              "      <td>88.6</td>\n",
              "      <td>235.0</td>\n",
              "      <td>283.0</td>\n",
              "      <td>292.0</td>\n",
              "      <td>302857.0</td>\n",
              "      <td>271875.0</td>\n",
              "      <td>272647.0</td>\n",
              "    </tr>\n",
              "    <tr>\n",
              "      <th>1</th>\n",
              "      <td>Москва и Московская область</td>\n",
              "      <td>Московский государственный институт международных отношений</td>\n",
              "      <td>NaN</td>\n",
              "      <td>гос.</td>\n",
              "      <td>приоритет, спецгрант</td>\n",
              "      <td>90.0</td>\n",
              "      <td>88.9</td>\n",
              "      <td>87.9</td>\n",
              "      <td>1258.0</td>\n",
              "      <td>1212.0</td>\n",
              "      <td>1162.0</td>\n",
              "      <td>96.7</td>\n",
              "      <td>96.2</td>\n",
              "      <td>96.2</td>\n",
              "      <td>405.0</td>\n",
              "      <td>412.0</td>\n",
              "      <td>398.0</td>\n",
              "      <td>86.8</td>\n",
              "      <td>85.2</td>\n",
              "      <td>83.6</td>\n",
              "      <td>853.0</td>\n",
              "      <td>800.0</td>\n",
              "      <td>764.0</td>\n",
              "      <td>594600.0</td>\n",
              "      <td>589850.0</td>\n",
              "      <td>561700.0</td>\n",
              "    </tr>\n",
              "    <tr>\n",
              "      <th>2</th>\n",
              "      <td>Москва и Московская область</td>\n",
              "      <td>Национальный исследовательский ядерный университет \"МИФИ\", г. Москва</td>\n",
              "      <td>NaN</td>\n",
              "      <td>гос.</td>\n",
              "      <td>НИУ, 5-100, приоритет, спецгрант, свои стандарты</td>\n",
              "      <td>89.8</td>\n",
              "      <td>90.3</td>\n",
              "      <td>89.1</td>\n",
              "      <td>1145.0</td>\n",
              "      <td>907.0</td>\n",
              "      <td>882.0</td>\n",
              "      <td>93.5</td>\n",
              "      <td>95.0</td>\n",
              "      <td>93.6</td>\n",
              "      <td>824.0</td>\n",
              "      <td>635.0</td>\n",
              "      <td>602.0</td>\n",
              "      <td>80.0</td>\n",
              "      <td>79.0</td>\n",
              "      <td>79.4</td>\n",
              "      <td>321.0</td>\n",
              "      <td>272.0</td>\n",
              "      <td>280.0</td>\n",
              "      <td>282400.0</td>\n",
              "      <td>259592.0</td>\n",
              "      <td>259807.0</td>\n",
              "    </tr>\n",
              "    <tr>\n",
              "      <th>3</th>\n",
              "      <td>Москва и Московская область</td>\n",
              "      <td>Национальный исследовательский университет \"Высшая школа экономики\", г. Москва</td>\n",
              "      <td>NaN</td>\n",
              "      <td>гос.</td>\n",
              "      <td>НИУ, 5-100, приоритет, спецгрант, свои стандарты</td>\n",
              "      <td>89.1</td>\n",
              "      <td>88.8</td>\n",
              "      <td>87.4</td>\n",
              "      <td>6608.0</td>\n",
              "      <td>6290.0</td>\n",
              "      <td>7059.0</td>\n",
              "      <td>96.3</td>\n",
              "      <td>95.2</td>\n",
              "      <td>95.4</td>\n",
              "      <td>2411.0</td>\n",
              "      <td>2418.0</td>\n",
              "      <td>2174.0</td>\n",
              "      <td>85.2</td>\n",
              "      <td>84.8</td>\n",
              "      <td>83.8</td>\n",
              "      <td>4197.0</td>\n",
              "      <td>3872.0</td>\n",
              "      <td>4885.0</td>\n",
              "      <td>519074.0</td>\n",
              "      <td>497547.0</td>\n",
              "      <td>446428.0</td>\n",
              "    </tr>\n",
              "    <tr>\n",
              "      <th>4</th>\n",
              "      <td>Санкт-Петербург</td>\n",
              "      <td>Университет ИТМО, г. Санкт-Петербург</td>\n",
              "      <td>NaN</td>\n",
              "      <td>гос.</td>\n",
              "      <td>НИУ, 5-100, приоритет, спецгрант, свои стандарты</td>\n",
              "      <td>87.9</td>\n",
              "      <td>87.4</td>\n",
              "      <td>87.6</td>\n",
              "      <td>2180.0</td>\n",
              "      <td>1847.0</td>\n",
              "      <td>1714.0</td>\n",
              "      <td>93.7</td>\n",
              "      <td>93.1</td>\n",
              "      <td>92.7</td>\n",
              "      <td>1336.0</td>\n",
              "      <td>1172.0</td>\n",
              "      <td>1153.0</td>\n",
              "      <td>78.9</td>\n",
              "      <td>77.6</td>\n",
              "      <td>77.2</td>\n",
              "      <td>844.0</td>\n",
              "      <td>675.0</td>\n",
              "      <td>561.0</td>\n",
              "      <td>235517.0</td>\n",
              "      <td>236275.0</td>\n",
              "      <td>236642.0</td>\n",
              "    </tr>\n",
              "  </tbody>\n",
              "</table>\n",
              "</div>\n",
              "      <button class=\"colab-df-convert\" onclick=\"convertToInteractive('df-33761549-e14a-4e5e-858f-7e6bdb504838')\"\n",
              "              title=\"Convert this dataframe to an interactive table.\"\n",
              "              style=\"display:none;\">\n",
              "        \n",
              "  <svg xmlns=\"http://www.w3.org/2000/svg\" height=\"24px\"viewBox=\"0 0 24 24\"\n",
              "       width=\"24px\">\n",
              "    <path d=\"M0 0h24v24H0V0z\" fill=\"none\"/>\n",
              "    <path d=\"M18.56 5.44l.94 2.06.94-2.06 2.06-.94-2.06-.94-.94-2.06-.94 2.06-2.06.94zm-11 1L8.5 8.5l.94-2.06 2.06-.94-2.06-.94L8.5 2.5l-.94 2.06-2.06.94zm10 10l.94 2.06.94-2.06 2.06-.94-2.06-.94-.94-2.06-.94 2.06-2.06.94z\"/><path d=\"M17.41 7.96l-1.37-1.37c-.4-.4-.92-.59-1.43-.59-.52 0-1.04.2-1.43.59L10.3 9.45l-7.72 7.72c-.78.78-.78 2.05 0 2.83L4 21.41c.39.39.9.59 1.41.59.51 0 1.02-.2 1.41-.59l7.78-7.78 2.81-2.81c.8-.78.8-2.07 0-2.86zM5.41 20L4 18.59l7.72-7.72 1.47 1.35L5.41 20z\"/>\n",
              "  </svg>\n",
              "      </button>\n",
              "      \n",
              "  <style>\n",
              "    .colab-df-container {\n",
              "      display:flex;\n",
              "      flex-wrap:wrap;\n",
              "      gap: 12px;\n",
              "    }\n",
              "\n",
              "    .colab-df-convert {\n",
              "      background-color: #E8F0FE;\n",
              "      border: none;\n",
              "      border-radius: 50%;\n",
              "      cursor: pointer;\n",
              "      display: none;\n",
              "      fill: #1967D2;\n",
              "      height: 32px;\n",
              "      padding: 0 0 0 0;\n",
              "      width: 32px;\n",
              "    }\n",
              "\n",
              "    .colab-df-convert:hover {\n",
              "      background-color: #E2EBFA;\n",
              "      box-shadow: 0px 1px 2px rgba(60, 64, 67, 0.3), 0px 1px 3px 1px rgba(60, 64, 67, 0.15);\n",
              "      fill: #174EA6;\n",
              "    }\n",
              "\n",
              "    [theme=dark] .colab-df-convert {\n",
              "      background-color: #3B4455;\n",
              "      fill: #D2E3FC;\n",
              "    }\n",
              "\n",
              "    [theme=dark] .colab-df-convert:hover {\n",
              "      background-color: #434B5C;\n",
              "      box-shadow: 0px 1px 3px 1px rgba(0, 0, 0, 0.15);\n",
              "      filter: drop-shadow(0px 1px 2px rgba(0, 0, 0, 0.3));\n",
              "      fill: #FFFFFF;\n",
              "    }\n",
              "  </style>\n",
              "\n",
              "      <script>\n",
              "        const buttonEl =\n",
              "          document.querySelector('#df-33761549-e14a-4e5e-858f-7e6bdb504838 button.colab-df-convert');\n",
              "        buttonEl.style.display =\n",
              "          google.colab.kernel.accessAllowed ? 'block' : 'none';\n",
              "\n",
              "        async function convertToInteractive(key) {\n",
              "          const element = document.querySelector('#df-33761549-e14a-4e5e-858f-7e6bdb504838');\n",
              "          const dataTable =\n",
              "            await google.colab.kernel.invokeFunction('convertToInteractive',\n",
              "                                                     [key], {});\n",
              "          if (!dataTable) return;\n",
              "\n",
              "          const docLinkHtml = 'Like what you see? Visit the ' +\n",
              "            '<a target=\"_blank\" href=https://colab.research.google.com/notebooks/data_table.ipynb>data table notebook</a>'\n",
              "            + ' to learn more about interactive tables.';\n",
              "          element.innerHTML = '';\n",
              "          dataTable['output_type'] = 'display_data';\n",
              "          await google.colab.output.renderOutput(dataTable, element);\n",
              "          const docLink = document.createElement('div');\n",
              "          docLink.innerHTML = docLinkHtml;\n",
              "          element.appendChild(docLink);\n",
              "        }\n",
              "      </script>\n",
              "    </div>\n",
              "  </div>\n",
              "  "
            ],
            "text/plain": [
              "                        Регион  ... Средняя стоимость обучения (руб. в год) 2019\n",
              "0  Москва и Московская область  ...                                     272647.0\n",
              "1  Москва и Московская область  ...                                     561700.0\n",
              "2  Москва и Московская область  ...                                     259807.0\n",
              "3  Москва и Московская область  ...                                     446428.0\n",
              "4              Санкт-Петербург  ...                                     236642.0\n",
              "\n",
              "[5 rows x 26 columns]"
            ]
          },
          "metadata": {},
          "execution_count": 38
        }
      ]
    },
    {
      "cell_type": "markdown",
      "source": [
        "***Это - официальное пояснение к таблице***\n",
        "\n",
        "**Совокупный прием**: общее количество зачисленных на бюджетные и платные места.\n",
        "\n",
        "**Средний балл ЕГЭ**: средний балл, рассчитанный для вуза в целом, на основе средних баллов всех зачисленных в него на 1-й курс. (Средний балл каждого зачисленного — это сумма баллов по предметам, деленная на количество вступительных испытаний для соответствующего направления подготовки). При расчете средних баллов ЕГЭ «отрезаются» баллы за индивидуальные достижения и за вступительные испытания творческой направленности.\n",
        "\n",
        "**Средний балл ЕГЭ Б+П**: средний балл для всех зачисленных в вуз на бюджетные и платные места.\n",
        "\n",
        "**Средний балл ЕГЭ (бюджет)**: средний балл для всех зачисленных в вуз на бюджетные места.\n",
        "\n",
        "**Средний балл ЕГЭ (платный прием)**: средний балл для всех зачисленных в вуз на платные места.\n",
        "\n",
        "**Средняя стоимость обучения**: стоимость, которую платят зачисленные в 2021 году на места с полным возмещением затрат за один год обучения. Указана без возможных в вузе скидок. Рассчитана как среднее значение по всем направлениям подготовки, ведущим в данном вузе прием на платные места. В расчете учтена только стоимость направлений, по которым зачислен хотя бы один человек. В средней стоимости по вузу стоимость обучения на каждом направлении подготовки взвешена по количеству зачисленных на это направление (чем меньше человек зачислено, тем меньше «вклад» стоимости данного направления в среднюю стоимость обучения в вузе)."
      ],
      "metadata": {
        "id": "3JBrV-2J9SK9"
      }
    },
    {
      "cell_type": "code",
      "source": [
        "from pylab import rcParams\n",
        "rcParams['figure.figsize'] = 9, 5\n",
        "# увеличиваю отображение визуализаций для большего удобства"
      ],
      "metadata": {
        "id": "2tvnZLNqUyX9"
      },
      "execution_count": 35,
      "outputs": []
    },
    {
      "cell_type": "code",
      "source": [
        "# В первую очередь - важно кол-во поступающих, я беру его за последний год, тк это наиболее свежая и нужная информация\n",
        "descended_10_applicants = df.sort_values(\"Зачислено всего (Б+П), чел. 2021\", ascending = False).head(10)"
      ],
      "metadata": {
        "id": "msSkqAEUZwGM"
      },
      "execution_count": 102,
      "outputs": []
    },
    {
      "cell_type": "code",
      "source": [
        "# для большей наглядости - столбиковая диаграмма с пояснением \n",
        "descended_10_applicants[\"Зачислено всего (Б+П), чел. 2021\"].plot(kind = 'bar',\n",
        "                   title = 'топ 10 ВУЗов по количеству поступающих в 2021',\n",
        "                   xlabel = 'номер ВУЗа в таблице',\n",
        "                   ylabel = 'количество поступающих',\n",
        "                   color = 'blueviolet',\n",
        "                   ylim = (3000, 8000))\n",
        "plt.show()\n",
        "print(descended_10_applicants[\"Вуз\"].head(10))"
      ],
      "metadata": {
        "colab": {
          "base_uri": "https://localhost:8080/",
          "height": 555
        },
        "id": "FDnzpELHcJDb",
        "outputId": "5cd40489-cabd-4adf-f95c-c8ad11230d2a"
      },
      "execution_count": 97,
      "outputs": [
        {
          "output_type": "display_data",
          "data": {
            "image/png": "[encoded data removed]",
            "text/plain": [
              "<Figure size 648x360 with 1 Axes>"
            ]
          },
          "metadata": {
            "needs_background": "light"
          }
        },
        {
          "output_type": "stream",
          "name": "stdout",
          "text": [
            "75                                                Уральский федеральный университет им. Б.Н. Ельцина\n",
            "3                     Национальный исследовательский университет \"Высшая школа экономики\", г. Москва\n",
            "51     Российская академия народного хозяйства и государственной службы при Президенте РФ, г. Москва\n",
            "61                                                    МИРЭА - Российский технологический университет\n",
            "6                                         Московский государственный университет им. М.В. Ломоносова\n",
            "45                                                   Казанский (Приволжский) федеральный университет\n",
            "138                                                                Сибирский федеральный университет\n",
            "16                               Московский государственный технический университет им. Н.Э. Баумана\n",
            "102                                                 Российский университет дружбы народов, г. Москва\n",
            "24                                            Финансовый университет при Правительстве РФ, г. Москва\n",
            "Name: Вуз, dtype: object\n"
          ]
        }
      ]
    },
    {
      "cell_type": "markdown",
      "source": [
        "***Главный показатель престижа - количество желающих туда попасть, данная визуализация отражает топ-10 вузов как раз по этому параметру. Но, также, можно посмотреть средний проходной балл на бюджет, ведь обычно чем больше желающих поступить - тем он выше.***"
      ],
      "metadata": {
        "id": "kxEzBZpRVCoX"
      }
    },
    {
      "cell_type": "code",
      "source": [
        "descended_10_points = df.sort_values(\"Ср.балл ЕГЭ (бюджет) 2021\", ascending = False).head(10)"
      ],
      "metadata": {
        "id": "v6jP8Fqlvrff"
      },
      "execution_count": 103,
      "outputs": []
    },
    {
      "cell_type": "code",
      "source": [
        "descended_10_points[\"Ср.балл ЕГЭ (бюджет) 2021\"].plot(kind = 'bar',\n",
        "                   title = 'топ 10 ВУЗов по проходным баллам на бюджет',\n",
        "                   xlabel = 'номер ВУЗа в таблице',\n",
        "                   ylabel = 'количество поступающих',\n",
        "                   color = 'darkcyan',\n",
        "                   ylim = (90, 100))\n",
        "plt.show()\n",
        "print(descended_10_points[\"Вуз\"].head(10))"
      ],
      "metadata": {
        "colab": {
          "base_uri": "https://localhost:8080/",
          "height": 549
        },
        "id": "K0t9VdtPvDzN",
        "outputId": "4f974c79-def7-4c04-ea09-2e73da0c7708"
      },
      "execution_count": 93,
      "outputs": [
        {
          "output_type": "display_data",
          "data": {
            "image/png": "[encoded data removed]",
            "text/plain": [
              "<Figure size 648x360 with 1 Axes>"
            ]
          },
          "metadata": {
            "needs_background": "light"
          }
        },
        {
          "output_type": "stream",
          "name": "stdout",
          "text": [
            "0                                                              Московский физико-технический институт\n",
            "1                                         Московский государственный институт международных отношений\n",
            "3                      Национальный исследовательский университет \"Высшая школа экономики\", г. Москва\n",
            "15                                            Московская высшая школа социальных и экономических наук\n",
            "4                                                                Университет ИТМО, г. Санкт-Петербург\n",
            "5     Национальный исследовательский университет \"Высшая школа экономики\", филиал, г. Санкт-Петербург\n",
            "51      Российская академия народного хозяйства и государственной службы при Президенте РФ, г. Москва\n",
            "2                                Национальный исследовательский ядерный университет \"МИФИ\", г. Москва\n",
            "7                                                     Санкт-Петербургский государственный университет\n",
            "24                                             Финансовый университет при Правительстве РФ, г. Москва\n",
            "Name: Вуз, dtype: object\n"
          ]
        }
      ]
    },
    {
      "cell_type": "markdown",
      "source": [
        "**Сравнивая эти два топа, можно заметить, что пересекаются лишь три ВУЗа - ВШЭ, РАНХиГС и Финансовый университет. Можно считать эти три вуза самыми топовыми, но, думаю, УФУ и МФТИ заслуживают входить в этот список тоже, как занявшие первые места в двух распределениях.**"
      ],
      "metadata": {
        "id": "F55J7vqNyVnt"
      }
    }
  ]
}