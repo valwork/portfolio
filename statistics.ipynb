{
  "nbformat": 4,
  "nbformat_minor": 0,
  "metadata": {
    "colab": {
      "name": "statistics",
      "provenance": [],
      "collapsed_sections": []
    },
    "kernelspec": {
      "name": "python3",
      "display_name": "Python 3"
    },
    "language_info": {
      "name": "python"
    }
  },
  "cells": [
    {
      "cell_type": "code",
      "execution_count": null,
      "metadata": {
        "id": "a-_7LIPKfHu4"
      },
      "outputs": [],
      "source": [
        "import pandas as pd"
      ]
    },
    {
      "cell_type": "code",
      "source": [
        "# сейчас я буду анализировать значения по столбцам, рассчитывать базовые статистики, находить выбросы\n",
        "hourses = pd.read_csv('https://raw.githubusercontent.com/obulygin/pyda_homeworks/master/statistics_basics/horse_data.csv', 'r', delimiter = ',', \n",
        "                      header=None, na_values = '?')\n",
        "\n",
        "hourses.rename(columns = {hourses.columns[0]: \"surgery?\", hourses.columns[1]: 'Age', hourses.columns[3]: 'rectal temperature', \n",
        "                          hourses.columns[4]: 'pulse' , hourses.columns[5]: 'respiratory rate', hourses.columns[6]: 'temperature of extremities',\n",
        "                          hourses.columns[10]: 'pain', hourses.columns[22]: 'outcome'}, inplace = True)\n",
        "\n",
        "hourses = hourses.drop(hourses.columns[[2, 7, 8, 9, 11, 12, 13, 14, 15, 16, 17, 18, 19, 20, 21, 23, 24, 25, 26, 27]], axis = 1)\n",
        "\n",
        "hourses"
      ],
      "metadata": {
        "colab": {
          "base_uri": "https://localhost:8080/",
          "height": 424
        },
        "id": "c7cqCvRDngBv",
        "outputId": "7870313a-f2b7-4f47-f03c-bd6f8a642d66"
      },
      "execution_count": null,
      "outputs": [
        {
          "output_type": "execute_result",
          "data": {
            "text/html": [
              "<div>\n",
              "<style scoped>\n",
              "    .dataframe tbody tr th:only-of-type {\n",
              "        vertical-align: middle;\n",
              "    }\n",
              "\n",
              "    .dataframe tbody tr th {\n",
              "        vertical-align: top;\n",
              "    }\n",
              "\n",
              "    .dataframe thead th {\n",
              "        text-align: right;\n",
              "    }\n",
              "</style>\n",
              "<table border=\"1\" class=\"dataframe\">\n",
              "  <thead>\n",
              "    <tr style=\"text-align: right;\">\n",
              "      <th></th>\n",
              "      <th>surgery?</th>\n",
              "      <th>Age</th>\n",
              "      <th>rectal temperature</th>\n",
              "      <th>pulse</th>\n",
              "      <th>respiratory rate</th>\n",
              "      <th>temperature of extremities</th>\n",
              "      <th>pain</th>\n",
              "      <th>outcome</th>\n",
              "    </tr>\n",
              "  </thead>\n",
              "  <tbody>\n",
              "    <tr>\n",
              "      <th>0</th>\n",
              "      <td>2.0</td>\n",
              "      <td>1</td>\n",
              "      <td>38.5</td>\n",
              "      <td>66.0</td>\n",
              "      <td>28.0</td>\n",
              "      <td>3.0</td>\n",
              "      <td>5.0</td>\n",
              "      <td>2.0</td>\n",
              "    </tr>\n",
              "    <tr>\n",
              "      <th>1</th>\n",
              "      <td>1.0</td>\n",
              "      <td>1</td>\n",
              "      <td>39.2</td>\n",
              "      <td>88.0</td>\n",
              "      <td>20.0</td>\n",
              "      <td>NaN</td>\n",
              "      <td>3.0</td>\n",
              "      <td>3.0</td>\n",
              "    </tr>\n",
              "    <tr>\n",
              "      <th>2</th>\n",
              "      <td>2.0</td>\n",
              "      <td>1</td>\n",
              "      <td>38.3</td>\n",
              "      <td>40.0</td>\n",
              "      <td>24.0</td>\n",
              "      <td>1.0</td>\n",
              "      <td>3.0</td>\n",
              "      <td>1.0</td>\n",
              "    </tr>\n",
              "    <tr>\n",
              "      <th>3</th>\n",
              "      <td>1.0</td>\n",
              "      <td>9</td>\n",
              "      <td>39.1</td>\n",
              "      <td>164.0</td>\n",
              "      <td>84.0</td>\n",
              "      <td>4.0</td>\n",
              "      <td>2.0</td>\n",
              "      <td>2.0</td>\n",
              "    </tr>\n",
              "    <tr>\n",
              "      <th>4</th>\n",
              "      <td>2.0</td>\n",
              "      <td>1</td>\n",
              "      <td>37.3</td>\n",
              "      <td>104.0</td>\n",
              "      <td>35.0</td>\n",
              "      <td>NaN</td>\n",
              "      <td>NaN</td>\n",
              "      <td>2.0</td>\n",
              "    </tr>\n",
              "    <tr>\n",
              "      <th>...</th>\n",
              "      <td>...</td>\n",
              "      <td>...</td>\n",
              "      <td>...</td>\n",
              "      <td>...</td>\n",
              "      <td>...</td>\n",
              "      <td>...</td>\n",
              "      <td>...</td>\n",
              "      <td>...</td>\n",
              "    </tr>\n",
              "    <tr>\n",
              "      <th>295</th>\n",
              "      <td>1.0</td>\n",
              "      <td>1</td>\n",
              "      <td>NaN</td>\n",
              "      <td>120.0</td>\n",
              "      <td>70.0</td>\n",
              "      <td>4.0</td>\n",
              "      <td>2.0</td>\n",
              "      <td>3.0</td>\n",
              "    </tr>\n",
              "    <tr>\n",
              "      <th>296</th>\n",
              "      <td>2.0</td>\n",
              "      <td>1</td>\n",
              "      <td>37.2</td>\n",
              "      <td>72.0</td>\n",
              "      <td>24.0</td>\n",
              "      <td>3.0</td>\n",
              "      <td>4.0</td>\n",
              "      <td>3.0</td>\n",
              "    </tr>\n",
              "    <tr>\n",
              "      <th>297</th>\n",
              "      <td>1.0</td>\n",
              "      <td>1</td>\n",
              "      <td>37.5</td>\n",
              "      <td>72.0</td>\n",
              "      <td>30.0</td>\n",
              "      <td>4.0</td>\n",
              "      <td>4.0</td>\n",
              "      <td>2.0</td>\n",
              "    </tr>\n",
              "    <tr>\n",
              "      <th>298</th>\n",
              "      <td>1.0</td>\n",
              "      <td>1</td>\n",
              "      <td>36.5</td>\n",
              "      <td>100.0</td>\n",
              "      <td>24.0</td>\n",
              "      <td>3.0</td>\n",
              "      <td>3.0</td>\n",
              "      <td>1.0</td>\n",
              "    </tr>\n",
              "    <tr>\n",
              "      <th>299</th>\n",
              "      <td>1.0</td>\n",
              "      <td>1</td>\n",
              "      <td>37.2</td>\n",
              "      <td>40.0</td>\n",
              "      <td>20.0</td>\n",
              "      <td>NaN</td>\n",
              "      <td>NaN</td>\n",
              "      <td>3.0</td>\n",
              "    </tr>\n",
              "  </tbody>\n",
              "</table>\n",
              "<p>300 rows × 8 columns</p>\n",
              "</div>"
            ],
            "text/plain": [
              "     surgery?  Age  ...  pain  outcome\n",
              "0         2.0    1  ...   5.0      2.0\n",
              "1         1.0    1  ...   3.0      3.0\n",
              "2         2.0    1  ...   3.0      1.0\n",
              "3         1.0    9  ...   2.0      2.0\n",
              "4         2.0    1  ...   NaN      2.0\n",
              "..        ...  ...  ...   ...      ...\n",
              "295       1.0    1  ...   2.0      3.0\n",
              "296       2.0    1  ...   4.0      3.0\n",
              "297       1.0    1  ...   4.0      2.0\n",
              "298       1.0    1  ...   3.0      1.0\n",
              "299       1.0    1  ...   NaN      3.0\n",
              "\n",
              "[300 rows x 8 columns]"
            ]
          },
          "metadata": {},
          "execution_count": 36
        }
      ]
    },
    {
      "cell_type": "code",
      "source": [
        "# выбросы для каждого значения\n",
        "q1_rt = hourses['rectal temperature'].quantile(0.25)\n",
        "q3_rt = hourses['rectal temperature'].quantile(0.75)\n",
        "iqr_rt = q3_rt - q1_rt\n",
        "lower_bound_rt = q1_rt - (1.5 * iqr_rt)\n",
        "upper_bound_rt = q3_rt + (1.5 * iqr)\n",
        "hourses['rectal temperature'][~hourses['rectal temperature'].between(lower_bound_rt, upper_bound_rt, inclusive = True)].dropna(how = 'all')\n"
      ],
      "metadata": {
        "colab": {
          "base_uri": "https://localhost:8080/"
        },
        "id": "jROSk-86o-zF",
        "outputId": "7eb8395e-6562-43bf-ff04-59b21392262c"
      },
      "execution_count": null,
      "outputs": [
        {
          "output_type": "execute_result",
          "data": {
            "text/plain": [
              "44     35.4\n",
              "80     36.4\n",
              "118    36.5\n",
              "141    36.0\n",
              "238    36.1\n",
              "251    36.6\n",
              "298    36.5\n",
              "Name: rectal temperature, dtype: float64"
            ]
          },
          "metadata": {},
          "execution_count": 29
        }
      ]
    },
    {
      "cell_type": "code",
      "source": [
        "q1_p = hourses['pulse'].quantile(0.25)\n",
        "q3_p = hourses['pulse'].quantile(0.75)\n",
        "iqr_p = q3_p - q1_p\n",
        "lower_bound_p = q1_p - (1.5 * iqr_p)\n",
        "upper_bound_p = q3_p + (1.5 * iqr_p)\n",
        "hourses['pulse'][~hourses['pulse'].between(lower_bound_p, upper_bound_p, inclusive = True)].dropna(how = 'all')\n"
      ],
      "metadata": {
        "colab": {
          "base_uri": "https://localhost:8080/"
        },
        "id": "2oiLtGPGrtdn",
        "outputId": "1f5f689e-9fdd-43e1-9e04-c06b2f345e6d"
      },
      "execution_count": null,
      "outputs": [
        {
          "output_type": "execute_result",
          "data": {
            "text/plain": [
              "3      164.0\n",
              "41     150.0\n",
              "55     160.0\n",
              "255    184.0\n",
              "275    150.0\n",
              "Name: pulse, dtype: float64"
            ]
          },
          "metadata": {},
          "execution_count": 32
        }
      ]
    },
    {
      "cell_type": "code",
      "source": [
        "q1_rr = hourses['respiratory rate'].quantile(0.25)\n",
        "q3_rr = hourses['respiratory rate'].quantile(0.75)\n",
        "iqr_rr = q3_rr - q1_rr\n",
        "lower_bound_rr = q1_rr - (1.5 * iqr_rr)\n",
        "upper_bound_rr = q3_rr + (1.5 * iqr_rr)\n",
        "hourses['respiratory rate'][hourses['respiratory rate'].between(lower_bound_rr, upper_bound_rr, inclusive = True)].dropna(how = 'all')\n"
      ],
      "metadata": {
        "colab": {
          "base_uri": "https://localhost:8080/"
        },
        "id": "gqNB6aB9r092",
        "outputId": "266a2ab3-eeb0-4ffe-8e71-e364d9a39796"
      },
      "execution_count": null,
      "outputs": [
        {
          "output_type": "execute_result",
          "data": {
            "text/plain": [
              "0      28.0\n",
              "1      20.0\n",
              "2      24.0\n",
              "4      35.0\n",
              "6      16.0\n",
              "       ... \n",
              "294    16.0\n",
              "296    24.0\n",
              "297    30.0\n",
              "298    24.0\n",
              "299    20.0\n",
              "Name: respiratory rate, Length: 225, dtype: float64"
            ]
          },
          "metadata": {},
          "execution_count": 31
        }
      ]
    },
    {
      "cell_type": "code",
      "source": [
        "hourses[['rectal temperature', 'pulse', 'respiratory rate']].describe()"
      ],
      "metadata": {
        "colab": {
          "base_uri": "https://localhost:8080/",
          "height": 300
        },
        "id": "stf7JadM_m9r",
        "outputId": "91550c4d-267c-4956-a20c-beb30cf15792"
      },
      "execution_count": null,
      "outputs": [
        {
          "output_type": "execute_result",
          "data": {
            "text/html": [
              "<div>\n",
              "<style scoped>\n",
              "    .dataframe tbody tr th:only-of-type {\n",
              "        vertical-align: middle;\n",
              "    }\n",
              "\n",
              "    .dataframe tbody tr th {\n",
              "        vertical-align: top;\n",
              "    }\n",
              "\n",
              "    .dataframe thead th {\n",
              "        text-align: right;\n",
              "    }\n",
              "</style>\n",
              "<table border=\"1\" class=\"dataframe\">\n",
              "  <thead>\n",
              "    <tr style=\"text-align: right;\">\n",
              "      <th></th>\n",
              "      <th>rectal temperature</th>\n",
              "      <th>pulse</th>\n",
              "      <th>respiratory rate</th>\n",
              "    </tr>\n",
              "  </thead>\n",
              "  <tbody>\n",
              "    <tr>\n",
              "      <th>count</th>\n",
              "      <td>240.000000</td>\n",
              "      <td>276.000000</td>\n",
              "      <td>242.000000</td>\n",
              "    </tr>\n",
              "    <tr>\n",
              "      <th>mean</th>\n",
              "      <td>38.167917</td>\n",
              "      <td>71.913043</td>\n",
              "      <td>30.417355</td>\n",
              "    </tr>\n",
              "    <tr>\n",
              "      <th>std</th>\n",
              "      <td>0.732289</td>\n",
              "      <td>28.630557</td>\n",
              "      <td>17.642231</td>\n",
              "    </tr>\n",
              "    <tr>\n",
              "      <th>min</th>\n",
              "      <td>35.400000</td>\n",
              "      <td>30.000000</td>\n",
              "      <td>8.000000</td>\n",
              "    </tr>\n",
              "    <tr>\n",
              "      <th>25%</th>\n",
              "      <td>37.800000</td>\n",
              "      <td>48.000000</td>\n",
              "      <td>18.500000</td>\n",
              "    </tr>\n",
              "    <tr>\n",
              "      <th>50%</th>\n",
              "      <td>38.200000</td>\n",
              "      <td>64.000000</td>\n",
              "      <td>24.500000</td>\n",
              "    </tr>\n",
              "    <tr>\n",
              "      <th>75%</th>\n",
              "      <td>38.500000</td>\n",
              "      <td>88.000000</td>\n",
              "      <td>36.000000</td>\n",
              "    </tr>\n",
              "    <tr>\n",
              "      <th>max</th>\n",
              "      <td>40.800000</td>\n",
              "      <td>184.000000</td>\n",
              "      <td>96.000000</td>\n",
              "    </tr>\n",
              "  </tbody>\n",
              "</table>\n",
              "</div>"
            ],
            "text/plain": [
              "       rectal temperature       pulse  respiratory rate\n",
              "count          240.000000  276.000000        242.000000\n",
              "mean            38.167917   71.913043         30.417355\n",
              "std              0.732289   28.630557         17.642231\n",
              "min             35.400000   30.000000          8.000000\n",
              "25%             37.800000   48.000000         18.500000\n",
              "50%             38.200000   64.000000         24.500000\n",
              "75%             38.500000   88.000000         36.000000\n",
              "max             40.800000  184.000000         96.000000"
            ]
          },
          "metadata": {},
          "execution_count": 34
        }
      ]
    },
    {
      "cell_type": "code",
      "source": [
        "# размах\n",
        "hourses[['rectal temperature', 'pulse', 'respiratory rate']].max() - hourses[['rectal temperature', 'pulse', 'respiratory rate']].min()"
      ],
      "metadata": {
        "colab": {
          "base_uri": "https://localhost:8080/"
        },
        "id": "L8qV1yCsqZzv",
        "outputId": "d3495bd5-6ab8-4e16-f94d-f9840f35b13e"
      },
      "execution_count": null,
      "outputs": [
        {
          "output_type": "execute_result",
          "data": {
            "text/plain": [
              "rectal temperature      5.4\n",
              "pulse                 154.0\n",
              "respiratory rate       88.0\n",
              "dtype: float64"
            ]
          },
          "metadata": {},
          "execution_count": 10
        }
      ]
    },
    {
      "cell_type": "code",
      "source": [
        "# медиана\n",
        "hourses[['rectal temperature', 'pulse', 'respiratory rate']].median()"
      ],
      "metadata": {
        "colab": {
          "base_uri": "https://localhost:8080/"
        },
        "id": "TtH4l3MAq0Hw",
        "outputId": "dc6114fb-96e4-432c-beeb-f98b8e9ef59e"
      },
      "execution_count": null,
      "outputs": [
        {
          "output_type": "execute_result",
          "data": {
            "text/plain": [
              "rectal temperature    38.2\n",
              "pulse                 64.0\n",
              "respiratory rate      24.5\n",
              "dtype: float64"
            ]
          },
          "metadata": {},
          "execution_count": 11
        }
      ]
    },
    {
      "cell_type": "code",
      "source": [
        "# мода\n",
        "hourses[['rectal temperature', 'pulse', 'respiratory rate']].mode()"
      ],
      "metadata": {
        "colab": {
          "base_uri": "https://localhost:8080/",
          "height": 81
        },
        "id": "Ctql8uyIrL9E",
        "outputId": "ffe872a5-3f02-4181-89fb-28b091b972b9"
      },
      "execution_count": null,
      "outputs": [
        {
          "output_type": "execute_result",
          "data": {
            "text/html": [
              "<div>\n",
              "<style scoped>\n",
              "    .dataframe tbody tr th:only-of-type {\n",
              "        vertical-align: middle;\n",
              "    }\n",
              "\n",
              "    .dataframe tbody tr th {\n",
              "        vertical-align: top;\n",
              "    }\n",
              "\n",
              "    .dataframe thead th {\n",
              "        text-align: right;\n",
              "    }\n",
              "</style>\n",
              "<table border=\"1\" class=\"dataframe\">\n",
              "  <thead>\n",
              "    <tr style=\"text-align: right;\">\n",
              "      <th></th>\n",
              "      <th>rectal temperature</th>\n",
              "      <th>pulse</th>\n",
              "      <th>respiratory rate</th>\n",
              "    </tr>\n",
              "  </thead>\n",
              "  <tbody>\n",
              "    <tr>\n",
              "      <th>0</th>\n",
              "      <td>38.0</td>\n",
              "      <td>48.0</td>\n",
              "      <td>20.0</td>\n",
              "    </tr>\n",
              "  </tbody>\n",
              "</table>\n",
              "</div>"
            ],
            "text/plain": [
              "   rectal temperature  pulse  respiratory rate\n",
              "0                38.0   48.0              20.0"
            ]
          },
          "metadata": {},
          "execution_count": 12
        }
      ]
    },
    {
      "cell_type": "code",
      "source": [
        "# расчёт количества пропусков, принятие решения о методах их заполнения, создание новго датафрейма с уже заполненными пропусками\n",
        "print(hourses.isna().sum())"
      ],
      "metadata": {
        "colab": {
          "base_uri": "https://localhost:8080/"
        },
        "id": "zQDquu3qe7y-",
        "outputId": "1635ff6c-0b47-43fb-d03b-db1d31d657ed"
      },
      "execution_count": null,
      "outputs": [
        {
          "output_type": "stream",
          "name": "stdout",
          "text": [
            "surgery?                       1\n",
            "Age                            0\n",
            "rectal temperature            60\n",
            "pulse                         24\n",
            "respiratory rate              58\n",
            "temperature of extremities    56\n",
            "pain                          55\n",
            "outcome                        1\n",
            "dtype: int64\n"
          ]
        }
      ]
    },
    {
      "cell_type": "code",
      "source": [
        "hourses_full = hourses.copy()"
      ],
      "metadata": {
        "id": "GPpfQvi7fwvu"
      },
      "execution_count": null,
      "outputs": []
    },
    {
      "cell_type": "code",
      "source": [
        "# была выбрана мода, потому что значения в столбцах означают определённые категории, далее - то же самое. группирую по фактору возраста, тк он есть во всех строках и может влиять\n",
        "hourses_full['surgery?'] = hourses_full['surgery?'].fillna(hourses_full.groupby('Age')['surgery?'].transform(lambda x: x.mode()[0]))"
      ],
      "metadata": {
        "id": "nm1M5xacgyGV"
      },
      "execution_count": null,
      "outputs": []
    },
    {
      "cell_type": "code",
      "source": [
        "hourses_full['temperature of extremities'] = hourses_full['temperature of extremities'].fillna(hourses_full.groupby('Age')['temperature of extremities'].transform(lambda x: x.mode()[0]))"
      ],
      "metadata": {
        "id": "rR1iTxZXj6Xq"
      },
      "execution_count": null,
      "outputs": []
    },
    {
      "cell_type": "code",
      "source": [
        "hourses_full['pain'] = hourses_full['pain'].fillna(hourses_full.groupby('Age')['pain'].transform(lambda x: x.mode()[0]))"
      ],
      "metadata": {
        "id": "1ZdDIMiWkMRG"
      },
      "execution_count": null,
      "outputs": []
    },
    {
      "cell_type": "code",
      "source": [
        "hourses_full['outcome'] = hourses_full['outcome'].fillna(hourses_full.groupby('Age')['outcome'].transform(lambda x: x.mode()[0]))"
      ],
      "metadata": {
        "id": "ImA7V2LKkbKq"
      },
      "execution_count": null,
      "outputs": []
    },
    {
      "cell_type": "code",
      "source": [
        "# эти значения напрямую являются мерами измерений, медиана более стабильна, беру её для последующих, так же группирую по возрасту\n",
        "hourses_full['rectal temperature'] = hourses_full['rectal temperature'].fillna(hourses_full.groupby('Age')['rectal temperature'].transform(lambda x: x.median()))"
      ],
      "metadata": {
        "id": "nnxPlwGRkicX"
      },
      "execution_count": null,
      "outputs": []
    },
    {
      "cell_type": "code",
      "source": [
        "hourses_full['pulse'] = hourses_full['pulse'].fillna(hourses_full.groupby('Age')['pulse'].transform(lambda x: x.median()))"
      ],
      "metadata": {
        "id": "Ak0JUW9tloRb"
      },
      "execution_count": null,
      "outputs": []
    },
    {
      "cell_type": "code",
      "source": [
        "hourses_full['respiratory rate'] = hourses_full['respiratory rate'].fillna(hourses_full.groupby('Age')['respiratory rate'].transform(lambda x: x.median()))"
      ],
      "metadata": {
        "id": "dGO2NsRVlvqM"
      },
      "execution_count": null,
      "outputs": []
    },
    {
      "cell_type": "code",
      "source": [
        "# проверка\n",
        "print(hourses_full.isna().sum())"
      ],
      "metadata": {
        "colab": {
          "base_uri": "https://localhost:8080/"
        },
        "id": "lDvqy6aOl3-j",
        "outputId": "0c2842fa-a362-4286-a0be-bbf32bb8dcd8"
      },
      "execution_count": null,
      "outputs": [
        {
          "output_type": "stream",
          "name": "stdout",
          "text": [
            "surgery?                      0\n",
            "Age                           0\n",
            "rectal temperature            0\n",
            "pulse                         0\n",
            "respiratory rate              0\n",
            "temperature of extremities    0\n",
            "pain                          0\n",
            "outcome                       0\n",
            "dtype: int64\n"
          ]
        }
      ]
    }
  ]
}