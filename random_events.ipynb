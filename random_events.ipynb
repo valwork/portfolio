{
  "nbformat": 4,
  "nbformat_minor": 0,
  "metadata": {
    "colab": {
      "name": "random.events",
      "provenance": []
    },
    "kernelspec": {
      "name": "python3",
      "display_name": "Python 3"
    },
    "language_info": {
      "name": "python"
    }
  },
  "cells": [
    {
      "cell_type": "code",
      "execution_count": null,
      "metadata": {
        "id": "RF_-DPSVF5SM"
      },
      "outputs": [],
      "source": [
        "import numpy as np\n",
        "import re"
      ]
    },
    {
      "cell_type": "code",
      "source": [
        "#симулятор игрового автомата\n",
        "one = input('вставьте монетку, введите единицу')\n",
        "if one == '1':\n",
        "  number = np.random.randint(0, 1000)\n",
        "  number_3 = '{:03}'.format(number)\n",
        "  print(number_3)\n",
        "  if number_3 == '777':\n",
        "    print('поздравляем! ваш выигрыш составляет 200 рублей')\n",
        "  elif number_3 == '999':\n",
        "    print('поздравляем! ваш выигрыш составляет 100 рублей')\n",
        "  elif number_3 == '555':\n",
        "    print('поздравляем! ваш выигрыш составляет 50 рублей')\n",
        "  elif number_3 == '333':\n",
        "    print('поздравляем! ваш выигрыш составляет 15 рублей')\n",
        "  elif number_3 == '111':\n",
        "    print('поздравляем! ваш выигрыш составляет 10 рублей')\n",
        "  elif re.match(r'\\d77', number_3):\n",
        "    print('поздравляем! ваш выигрыш составляет 5 рублей')\n",
        "  elif re.match(r'\\d{2}7', number_3):\n",
        "    print('поздравляем! ваш выигрыш составляет 3 рубля')\n",
        "  elif re.match(r'\\d00', number_3):\n",
        "    print('поздравляем! ваш выигрыш составляет 2 рубля')\n",
        "  elif re.match('\\d{2}0', number_3):\n",
        "    print('поздравляем! ваш выигрыш составляет 1 рубль')\n",
        "  else: \n",
        "    print('вы ничего не выиграли, попробуйте снова')"
      ],
      "metadata": {
        "colab": {
          "base_uri": "https://localhost:8080/"
        },
        "id": "wbLvXKUjNv-E",
        "outputId": "231c49be-9f7a-4c41-d174-a1228fd94fd3"
      },
      "execution_count": null,
      "outputs": [
        {
          "output_type": "stream",
          "name": "stdout",
          "text": [
            "вставьте монетку, введите единицу1\n",
            "180\n",
            "поздравляем! ваш выигрыш составляет 1 рубль\n"
          ]
        }
      ]
    },
    {
      "cell_type": "code",
      "source": [
        "# а также анализ того, наскольно выгодно играть в данный симулятор\n",
        "trials = 1000000\n",
        "winnings = []\n",
        "for i in range(trials):\n",
        "  number = np.random.randint(0, 1000)\n",
        "  number_3 = '{:03}'.format(number)\n",
        "  if number_3 == '777':\n",
        "    winnings.append(200)\n",
        "  elif number_3 == '999':\n",
        "    winnings.append(100)\n",
        "  elif number_3 == '555':\n",
        "    winnings.append(50)\n",
        "  elif number_3 == '333':\n",
        "    winnings.append(15)\n",
        "  elif number_3 == '111':\n",
        "    winnings.append(10)\n",
        "  elif re.match(r'\\d77', number_3):\n",
        "    winnings.append(5)\n",
        "  elif re.match(r'\\d{2}7', number_3):\n",
        "    winnings.append(3)\n",
        "  elif re.match(r'\\d00', number_3):\n",
        "    winnings.append(2)\n",
        "  elif re.match('\\d{2}0', number_3):\n",
        "    winnings.append(1)\n",
        "  else: \n",
        "    continue\n",
        "print(sum(winnings)/trials)\n",
        "\n",
        "#выигрыш в среднем составит 80% от потраченного. игрок в среднем теряет 20% потраченных средств.\n",
        "#игра не очень выгодна игроку, он теряет больше, чем выигрывает."
      ],
      "metadata": {
        "colab": {
          "base_uri": "https://localhost:8080/"
        },
        "id": "Tu3iNDEBGOqx",
        "outputId": "b42bf665-5eea-41d0-8778-170fd9005cd9"
      },
      "execution_count": null,
      "outputs": [
        {
          "output_type": "stream",
          "name": "stdout",
          "text": [
            "0.794885\n"
          ]
        }
      ]
    }
  ]
}